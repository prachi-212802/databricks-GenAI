{
 "cells": [
  {
   "cell_type": "code",
   "execution_count": 5,
   "metadata": {},
   "outputs": [],
   "source": [
    "from langchain_community.llms import Ollama \n",
    "from langchain_ollama import OllamaLLM\n",
    "\n",
    "llm__ollama = OllamaLLM(\n",
    "    model=\"llama3.2\"\n",
    ")  # assuming you have Ollama installed and have llama3 model pulled with `ollama pull llama3 `\n",
    "\n",
    "# llm__ollama.invoke(\"generate a sql query which can count the total rows\")   \n",
    "\n",
    "llm__ollama_ans = OllamaLLM(\n",
    "    model=\"llama3.2\"\n",
    ")  # assuming you have Ollama installed and have llama3 model pulled with `ollama pull llama3 `\n"
   ]
  },
  {
   "cell_type": "code",
   "execution_count": 6,
   "metadata": {},
   "outputs": [
    {
     "name": "stderr",
     "output_type": "stream",
     "text": [
      "/Users/prachi-bhardwaj/Downloads/llm/.venv/lib/python3.12/site-packages/snowflake/sqlalchemy/base.py:1068: SAWarning: The GenericFunction 'flatten' is already registered and is going to be overridden.\n",
      "  functions.register_function(\"flatten\", flatten)\n"
     ]
    }
   ],
   "source": [
    "from langchain_community.utilities import SQLDatabase\n",
    "import urllib.parse\n",
    "# from sqlalchemy import create_engine\n",
    "quoted_password = urllib.parse.quote(\"Prachi@28\")\n",
    "\n",
    "snowflake_db = SQLDatabase.from_uri('snowflake://{user}:{password}@{account_identifier}/SNOWFLAKE_SAMPLE_DATA/TPCDS_SF100TCL'.format(\n",
    "        user='PRACHIBH',\n",
    "        password=quoted_password,\n",
    "        account_identifier='dmhwtcd-nt69450',\n",
    "    ))\n",
    "\n",
    "# print(db.dialect)\n",
    "# print(db.get_usable_table_names())\n",
    "# db.run(\"SELECT * FROM Artist LIMIT 10;\")\n",
    "\n",
    "# construct sqlalchemy engine from uri \n",
    "# error : full path need to be mentioned => so, full path as in till the db with .db included ?  "
   ]
  },
  {
   "cell_type": "code",
   "execution_count": 7,
   "metadata": {},
   "outputs": [],
   "source": [
    "from langchain_core.output_parsers.list import CommaSeparatedListOutputParser\n",
    "from langchain_core.prompts.prompt import PromptTemplate\n",
    "from langchain_core.language_models import BaseLanguageModel\n",
    "from langchain_core.output_parsers import StrOutputParser\n",
    "from langchain_core.prompts import BasePromptTemplate\n",
    "from langchain_core.runnables import Runnable, RunnablePassthrough\n",
    "from langchain.chains.sql_database.prompt import PROMPT, SQL_PROMPTS\n",
    "\n",
    "from typing import Any, Dict, List, Optional, Union, TypedDict, TYPE_CHECKING\n",
    "\n",
    "if TYPE_CHECKING:\n",
    "    from langchain_community.utilities.sql_database import SQLDatabase\n",
    "\n",
    "def _strip(text: str) -> str:\n",
    "    print(\"insisde _strip\")\n",
    "    return text.strip()\n",
    "\n",
    "class SQLInput(TypedDict):\n",
    "    \"\"\"Input for a SQL Chain.\"\"\"\n",
    "    question: str\n",
    "\n",
    "class SQLInputWithTables(TypedDict):\n",
    "    \"\"\"Input for a SQL Chain.\"\"\"\n",
    "    question: str\n",
    "    table_names_to_use: List[str]\n",
    "\n",
    "def create_sql_query_chain(\n",
    "    llm: BaseLanguageModel,\n",
    "    db: SQLDatabase,\n",
    "    prompt: Optional[BasePromptTemplate] = None,\n",
    "    k: int = 1,\n",
    ") -> Runnable[Union[SQLInput, SQLInputWithTables, Dict[str, Any]], str]:\n",
    "\n",
    "    if prompt is not None:\n",
    "        prompt_to_use = prompt\n",
    "    elif db.dialect in SQL_PROMPTS:\n",
    "        prompt_to_use = SQL_PROMPTS[db.dialect]\n",
    "    else:\n",
    "        prompt_to_use = PROMPT\n",
    "\n",
    "    if {\"input\", \"top_k\", \"table_info\"}.difference(\n",
    "        prompt_to_use.input_variables + list(prompt_to_use.partial_variables)\n",
    "    ):\n",
    "        raise ValueError(\n",
    "            f\"Prompt must have input variables: 'input', 'top_k', \"\n",
    "            f\"'table_info'. Received prompt with input variables: \"\n",
    "            f\"{prompt_to_use.input_variables}. Full prompt:\\n\\n{prompt_to_use}\"\n",
    "        )\n",
    "    if \"dialect\" in prompt_to_use.input_variables:\n",
    "        prompt_to_use = prompt_to_use.partial(dialect=db.dialect)\n",
    "\n",
    "    inputs = {\n",
    "        \"input\": lambda x: x[\"question\"] + \"\\nSQLQuery: \",\n",
    "        \"table_info\": lambda x: db.get_table_info(\n",
    "            table_names=x.get(\"table_names_to_use\")\n",
    "        ),\n",
    "    }\n",
    "\n",
    "    return (\n",
    "        RunnablePassthrough.assign(**inputs)  # type: ignore\n",
    "        | prompt_to_use.partial(top_k=str(k))\n",
    "        | llm.bind(stop=[\"\\nSQLResult:\"])\n",
    "        | StrOutputParser()\n",
    "        | _strip\n",
    "    )\n",
    "\n",
    "# Example usage:\n",
    "# Make sure to replace `llm__ollama` and `db` with your actual language model and database objects.\n",
    "\n"
   ]
  },
  {
   "cell_type": "code",
   "execution_count": 10,
   "metadata": {},
   "outputs": [],
   "source": [
    "import re \n",
    "from langchain_community.tools.sql_database.tool import BaseSQLDatabaseTool, _QuerySQLDataBaseToolInput, QuerySQLDataBaseTool\n",
    "\n",
    "from typing import Any, Dict, Optional, Sequence, Type, Union\n",
    "\n",
    "from sqlalchemy.engine import Result\n",
    "\n",
    "from pydantic import BaseModel, Field, root_validator, model_validator, ConfigDict\n",
    "\n",
    "from langchain_core.language_models import BaseLanguageModel\n",
    "from langchain_core.callbacks import (\n",
    "    AsyncCallbackManagerForToolRun,\n",
    "    CallbackManagerForToolRun,\n",
    ")\n",
    "from langchain_core.prompts import PromptTemplate\n",
    "from langchain_community.utilities.sql_database import SQLDatabase\n",
    "from langchain_core.tools import BaseTool\n",
    "from langchain_community.tools.sql_database.prompt import QUERY_CHECKER \n",
    "\n",
    "class QuerySQLDataBaseToolCustom(QuerySQLDataBaseTool):\n",
    "    def __init__(self, db: SQLDatabase):\n",
    "        super().__init__(db=db)\n",
    "        self.db = db  # Initialize the database connection\n",
    "\n",
    "    def _run(\n",
    "        self,\n",
    "        response: str,\n",
    "        run_manager: Optional[CallbackManagerForToolRun] = None,\n",
    "    ) -> Union[str, Sequence[Dict[str, Any]], Result]:\n",
    "        \"\"\"Custom run logic for executing the SQL query.\"\"\"\n",
    "        pattern = r\"SQLQuery:\\s*((?:.|\\n)*?)(;|$)\"\n",
    "        match = re.search(pattern, response)\n",
    "        if match:\n",
    "            sql_query = match.group(1)\n",
    "            # Execute the dynamically extracted SQL query \n",
    "            ans = self.db.run(\"SELECT cd_dep_employed_count FROM customer_demographics WHERE cd_gender = 'M' AND cd_credit_rating = 'Good' limit 1;\") \n",
    "            print(ans)\n",
    "            return ans, \n",
    "        else:\n",
    "            return \"SQL not found\"\n"
   ]
  },
  {
   "cell_type": "code",
   "execution_count": 11,
   "metadata": {},
   "outputs": [
    {
     "name": "stdout",
     "output_type": "stream",
     "text": [
      "insisde _strip\n",
      "[(0,)]\n"
     ]
    },
    {
     "data": {
      "text/plain": [
       "\"The result indicates that there are no records in the CUSTOMER_DEMOGRAPHICS table where the CD_CREDIT_RATING is 'Good'. Therefore, the answer to the user's question is:\\n\\nThere is 1 male customer with a good credit rating.\""
      ]
     },
     "execution_count": 11,
     "metadata": {},
     "output_type": "execute_result"
    }
   ],
   "source": [
    "from operator import itemgetter\n",
    "from langchain_core.output_parsers import StrOutputParser\n",
    "from langchain_core.prompts import PromptTemplate\n",
    "from langchain_core.runnables import RunnablePassthrough\n",
    "\n",
    "\n",
    "answer_prompt = PromptTemplate.from_template(\n",
    "    \"\"\"Given the following user question, corresponding SQL query, and SQL result, answer the user question.\n",
    "\n",
    "Question: {question}\n",
    "SQL Query: {query} \n",
    "SQL Result: {result}\n",
    "\n",
    "Answer: \"\"\"\n",
    ") \n",
    "\n",
    "write_query = create_sql_query_chain(llm__ollama,snowflake_db)\n",
    "execute_query = QuerySQLDataBaseToolCustom(snowflake_db)\n",
    "answer = answer_prompt | llm__ollama_ans | StrOutputParser()\n",
    "chain_3 = (\n",
    "    RunnablePassthrough.assign(query=write_query).assign(\n",
    "        result= itemgetter(\"query\") | execute_query\n",
    "    ) | answer\n",
    ") \n",
    "\n",
    "chain_3.invoke({\n",
    "    \"question\" : \"extract male count from CUSTOMER_DEMOGRAPHICS where CD_CREDIT_RATING are good\",\n",
    "    \"table_names_to_use\": ['customer_demographics']\n",
    "}) \n"
   ]
  },
  {
   "cell_type": "code",
   "execution_count": null,
   "metadata": {},
   "outputs": [],
   "source": []
  }
 ],
 "metadata": {
  "kernelspec": {
   "display_name": ".venv",
   "language": "python",
   "name": "python3"
  },
  "language_info": {
   "codemirror_mode": {
    "name": "ipython",
    "version": 3
   },
   "file_extension": ".py",
   "mimetype": "text/x-python",
   "name": "python",
   "nbconvert_exporter": "python",
   "pygments_lexer": "ipython3",
   "version": "3.12.4"
  }
 },
 "nbformat": 4,
 "nbformat_minor": 2
}
