{
 "cells": [
  {
   "cell_type": "code",
   "execution_count": 29,
   "metadata": {},
   "outputs": [
    {
     "data": {
      "text/plain": [
       "'Here are some examples of SQL queries that can be used to count the total number of rows in different tables:\\n\\n**For a single table**\\n\\n```sql\\nSELECT COUNT(*) \\nFROM table_name;\\n```\\n\\nThis will return the total number of rows in the specified table.\\n\\n**For multiple tables**\\n\\n```sql\\nSELECT COUNT(*) \\nFROM table1, table2, ... \\nWHERE condition;\\n```\\n\\nReplace `table1`, `table2`, etc. with the names of your tables and `condition` with a valid WHERE clause that matches the conditions for which you want to count rows in each table.\\n\\n**For subqueries**\\n\\n```sql\\nSELECT COUNT(*) \\nFROM (\\n  SELECT *\\n  FROM table_name\\n) AS subquery;\\n```\\n\\nThis will return the total number of rows from the specified table, even if the results are stored in a temporary result set (subquery).\\n\\n**Using GROUP BY and HAVING clauses**\\n\\n```sql\\nSELECT COUNT(column_name)\\nFROM table_name\\nGROUP BY column_name\\nHAVING COUNT(*) > threshold_value;\\n```\\n\\nReplace `column_name` with the name of the column that you want to group by, and `threshold_value` with a value that determines which groups to include in the count.\\n\\n**Using window functions (for SQL versions 11.2 or later)**\\n\\n```sql\\nSELECT COUNT(*) \\nOVER () AS total_rows;\\n```\\n\\nThis will return the total number of rows from all tables.\\n\\nNote: The syntax may vary depending on the specific database system you are using, such as MySQL, PostgreSQL, Oracle, Microsoft SQL Server, etc.'"
      ]
     },
     "execution_count": 29,
     "metadata": {},
     "output_type": "execute_result"
    }
   ],
   "source": [
    "from langchain_community.llms import Ollama\n",
    "\n",
    "llm__ollama = Ollama(\n",
    "    model=\"llama3.2\"\n",
    ")  # assuming you have Ollama installed and have llama3 model pulled with `ollama pull llama3 `\n",
    "\n",
    "llm__ollama.invoke(\"generate a sql query which can count the total rows\") "
   ]
  },
  {
   "cell_type": "code",
   "execution_count": 30,
   "metadata": {},
   "outputs": [],
   "source": [
    "from langchain_community.utilities import SQLDatabase\n",
    "import urllib.parse\n",
    "# from sqlalchemy import create_engine\n",
    "quoted_password = urllib.parse.quote(\"Prachi@28\")\n",
    "\n",
    "snowflake_db = SQLDatabase.from_uri('snowflake://{user}:{password}@{account_identifier}/SNOWFLAKE_SAMPLE_DATA/TPCDS_SF100TCL'.format(\n",
    "        user='PRACHIBH',\n",
    "        password=quoted_password,\n",
    "        account_identifier='dmhwtcd-nt69450',\n",
    "    ))\n",
    "\n",
    "# print(db.dialect)\n",
    "# print(db.get_usable_table_names())\n",
    "# db.run(\"SELECT * FROM Artist LIMIT 10;\")\n",
    "\n",
    "# construct sqlalchemy engine from uri \n",
    "# error : full path need to be mentioned => so, full path as in till the db with .db included ?  "
   ]
  },
  {
   "cell_type": "code",
   "execution_count": 31,
   "metadata": {},
   "outputs": [],
   "source": [
    "from langchain_core.output_parsers.list import CommaSeparatedListOutputParser\n",
    "from langchain_core.prompts.prompt import PromptTemplate\n",
    "from langchain_core.language_models import BaseLanguageModel\n",
    "from langchain_core.output_parsers import StrOutputParser\n",
    "from langchain_core.prompts import BasePromptTemplate\n",
    "from langchain_core.runnables import Runnable, RunnablePassthrough\n",
    "from langchain.chains.sql_database.prompt import PROMPT, SQL_PROMPTS\n",
    "\n",
    "from typing import Any, Dict, List, Optional, Union, TypedDict, TYPE_CHECKING\n",
    "\n",
    "if TYPE_CHECKING:\n",
    "    from langchain_community.utilities.sql_database import SQLDatabase\n",
    "\n",
    "def _strip(text: str) -> str:\n",
    "    print(\"insisde _strip\")\n",
    "    return text.strip()\n",
    "\n",
    "class SQLInput(TypedDict):\n",
    "    \"\"\"Input for a SQL Chain.\"\"\"\n",
    "    question: str\n",
    "\n",
    "class SQLInputWithTables(TypedDict):\n",
    "    \"\"\"Input for a SQL Chain.\"\"\"\n",
    "    question: str\n",
    "    table_names_to_use: List[str]\n",
    "\n",
    "def create_sql_query_chain(\n",
    "    llm: BaseLanguageModel,\n",
    "    db: SQLDatabase,\n",
    "    prompt: Optional[BasePromptTemplate] = None,\n",
    "    k: int = 1,\n",
    ") -> Runnable[Union[SQLInput, SQLInputWithTables, Dict[str, Any]], str]:\n",
    "\n",
    "    if prompt is not None:\n",
    "        prompt_to_use = prompt\n",
    "    elif db.dialect in SQL_PROMPTS:\n",
    "        prompt_to_use = SQL_PROMPTS[db.dialect]\n",
    "    else:\n",
    "        prompt_to_use = PROMPT\n",
    "\n",
    "    if {\"input\", \"top_k\", \"table_info\"}.difference(\n",
    "        prompt_to_use.input_variables + list(prompt_to_use.partial_variables)\n",
    "    ):\n",
    "        raise ValueError(\n",
    "            f\"Prompt must have input variables: 'input', 'top_k', \"\n",
    "            f\"'table_info'. Received prompt with input variables: \"\n",
    "            f\"{prompt_to_use.input_variables}. Full prompt:\\n\\n{prompt_to_use}\"\n",
    "        )\n",
    "    if \"dialect\" in prompt_to_use.input_variables:\n",
    "        prompt_to_use = prompt_to_use.partial(dialect=db.dialect)\n",
    "\n",
    "    inputs = {\n",
    "        \"input\": lambda x: x[\"question\"] + \"\\nSQLQuery: \",\n",
    "        \"table_info\": lambda x: db.get_table_info(\n",
    "            table_names=x.get(\"table_names_to_use\")\n",
    "        ),\n",
    "    }\n",
    "\n",
    "    return (\n",
    "        RunnablePassthrough.assign(**inputs)  # type: ignore\n",
    "        | prompt_to_use.partial(top_k=str(k))\n",
    "        | llm.bind(stop=[\"\\nSQLResult:\"])\n",
    "        | StrOutputParser()\n",
    "        | _strip\n",
    "    )\n",
    "\n",
    "# Example usage:\n",
    "# Make sure to replace `llm__ollama` and `db` with your actual language model and database objects.\n",
    "\n"
   ]
  },
  {
   "cell_type": "code",
   "execution_count": 32,
   "metadata": {},
   "outputs": [
    {
     "name": "stdout",
     "output_type": "stream",
     "text": [
      "insisde _strip\n",
      "Question: extract male count from CUSTOMER_DEMOGRAPHICS where CD_CREDIT_RATING is good\n",
      "SQLQuery: \n",
      "\n",
      "SELECT cd_dep_employed_count \n",
      "FROM customer_demographics \n",
      "WHERE cd_gender = 'M' AND cd_credit_rating = 'Good\n"
     ]
    }
   ],
   "source": [
    "chain = create_sql_query_chain(llm__ollama,snowflake_db)\n",
    "response = chain.invoke({\n",
    "    \"question\" : \"extract male count from CUSTOMER_DEMOGRAPHICS where CD_CREDIT_RATING are good\",\n",
    "    \"table_names_to_use\": ['customer_demographics']\n",
    "})\n",
    "print(response)"
   ]
  },
  {
   "cell_type": "code",
   "execution_count": 33,
   "metadata": {},
   "outputs": [
    {
     "name": "stdout",
     "output_type": "stream",
     "text": [
      "sql_query : SELECT cd_dep_employed_count \n",
      "FROM customer_demographics \n",
      "WHERE cd_gender = 'M' AND cd_credit_rating = 'Good;\n"
     ]
    }
   ],
   "source": [
    "import re\n",
    "\n",
    "# Define the regex pattern\n",
    "pattern = r\"SQLQuery:\\s*((?:.|\\n)*?)(;|$)\"\n",
    "\n",
    "# Search for the pattern in the text\n",
    "match = re.search(pattern, response)\n",
    "\n",
    "# Extract the SQL query if the pattern is found\n",
    "if match:\n",
    "    sql_query = match.group(1)\n",
    "else:\n",
    "    print(\"SQLQuery not found\") \n",
    "\n",
    "sql_query = sql_query + ';' \n",
    "print(f'sql_query : {sql_query}')"
   ]
  },
  {
   "cell_type": "code",
   "execution_count": null,
   "metadata": {},
   "outputs": [],
   "source": []
  },
  {
   "cell_type": "code",
   "execution_count": 28,
   "metadata": {},
   "outputs": [
    {
     "name": "stdout",
     "output_type": "stream",
     "text": [
      "insisde _strip\n"
     ]
    },
    {
     "ename": "TypeError",
     "evalue": "ExecuteDB.invoke() takes 1 positional argument but 3 were given",
     "output_type": "error",
     "traceback": [
      "\u001b[0;31m---------------------------------------------------------------------------\u001b[0m",
      "\u001b[0;31mTypeError\u001b[0m                                 Traceback (most recent call last)",
      "Cell \u001b[0;32mIn[28], line 26\u001b[0m\n\u001b[1;32m     24\u001b[0m execute_query \u001b[38;5;241m=\u001b[39m execurteDB(snowflake_db, response)\n\u001b[1;32m     25\u001b[0m chain_2 \u001b[38;5;241m=\u001b[39m write_query \u001b[38;5;241m|\u001b[39m execute_query  \n\u001b[0;32m---> 26\u001b[0m response \u001b[38;5;241m=\u001b[39m \u001b[43mchain_2\u001b[49m\u001b[38;5;241;43m.\u001b[39;49m\u001b[43minvoke\u001b[49m\u001b[43m(\u001b[49m\u001b[43m{\u001b[49m\n\u001b[1;32m     27\u001b[0m \u001b[43m    \u001b[49m\u001b[38;5;124;43m\"\u001b[39;49m\u001b[38;5;124;43mquestion\u001b[39;49m\u001b[38;5;124;43m\"\u001b[39;49m\u001b[43m \u001b[49m\u001b[43m:\u001b[49m\u001b[43m \u001b[49m\u001b[38;5;124;43m\"\u001b[39;49m\u001b[38;5;124;43mextract male count from CUSTOMER_DEMOGRAPHICS where CD_CREDIT_RATING are good\u001b[39;49m\u001b[38;5;124;43m\"\u001b[39;49m\u001b[43m,\u001b[49m\n\u001b[1;32m     28\u001b[0m \u001b[43m    \u001b[49m\u001b[38;5;124;43m\"\u001b[39;49m\u001b[38;5;124;43mtable_names_to_use\u001b[39;49m\u001b[38;5;124;43m\"\u001b[39;49m\u001b[43m:\u001b[49m\u001b[43m \u001b[49m\u001b[43m[\u001b[49m\u001b[38;5;124;43m'\u001b[39;49m\u001b[38;5;124;43mcustomer_demographics\u001b[39;49m\u001b[38;5;124;43m'\u001b[39;49m\u001b[43m]\u001b[49m\n\u001b[1;32m     29\u001b[0m \u001b[43m}\u001b[49m\u001b[43m)\u001b[49m\n",
      "File \u001b[0;32m~/Downloads/llm/.venv/lib/python3.12/site-packages/langchain_core/runnables/base.py:3024\u001b[0m, in \u001b[0;36mRunnableSequence.invoke\u001b[0;34m(self, input, config, **kwargs)\u001b[0m\n\u001b[1;32m   3022\u001b[0m             \u001b[38;5;28minput\u001b[39m \u001b[38;5;241m=\u001b[39m context\u001b[38;5;241m.\u001b[39mrun(step\u001b[38;5;241m.\u001b[39minvoke, \u001b[38;5;28minput\u001b[39m, config, \u001b[38;5;241m*\u001b[39m\u001b[38;5;241m*\u001b[39mkwargs)\n\u001b[1;32m   3023\u001b[0m         \u001b[38;5;28;01melse\u001b[39;00m:\n\u001b[0;32m-> 3024\u001b[0m             \u001b[38;5;28minput\u001b[39m \u001b[38;5;241m=\u001b[39m \u001b[43mcontext\u001b[49m\u001b[38;5;241;43m.\u001b[39;49m\u001b[43mrun\u001b[49m\u001b[43m(\u001b[49m\u001b[43mstep\u001b[49m\u001b[38;5;241;43m.\u001b[39;49m\u001b[43minvoke\u001b[49m\u001b[43m,\u001b[49m\u001b[43m \u001b[49m\u001b[38;5;28;43minput\u001b[39;49m\u001b[43m,\u001b[49m\u001b[43m \u001b[49m\u001b[43mconfig\u001b[49m\u001b[43m)\u001b[49m\n\u001b[1;32m   3025\u001b[0m \u001b[38;5;66;03m# finish the root run\u001b[39;00m\n\u001b[1;32m   3026\u001b[0m \u001b[38;5;28;01mexcept\u001b[39;00m \u001b[38;5;167;01mBaseException\u001b[39;00m \u001b[38;5;28;01mas\u001b[39;00m e:\n",
      "\u001b[0;31mTypeError\u001b[0m: ExecuteDB.invoke() takes 1 positional argument but 3 were given"
     ]
    }
   ],
   "source": [
    "import re\n",
    "from typing import Optional\n",
    "from langchain_core.runnables import Runnable\n",
    "\n",
    "class ExecuteDB(Runnable):\n",
    "    def __init__(self, db: SQLDatabase, response : str):\n",
    "        self.db = db\n",
    "        self.response = response\n",
    "\n",
    "    def invoke(self) -> Optional[str]:\n",
    "        pattern = r\"SQLQuery:\\s*(.*)\"\n",
    "        match = re.search(pattern, self.response)\n",
    "        if match:\n",
    "            sql_query = match.group(1)\n",
    "            return self.db.run(\"SELECT cd_dep_employed_count FROM customer_demographics WHERE cd_gender = 'M' AND cd_credit_rating = 'Good' ;\")\n",
    "        else:\n",
    "            print(\"SQL not found\")\n",
    "            return None\n",
    "\n",
    "def execurteDB(db: SQLDatabase, response: str) -> Runnable:\n",
    "    return ExecuteDB(db, response)\n",
    "\n",
    "write_query = create_sql_query_chain(llm__ollama,snowflake_db)\n",
    "execute_query = execurteDB(snowflake_db, response)\n",
    "chain_2 = write_query | execute_query  \n",
    "response = chain_2.invoke({\n",
    "    \"question\" : \"extract male count from CUSTOMER_DEMOGRAPHICS where CD_CREDIT_RATING are good\",\n",
    "    \"table_names_to_use\": ['customer_demographics']\n",
    "})\n"
   ]
  },
  {
   "cell_type": "code",
   "execution_count": null,
   "metadata": {},
   "outputs": [],
   "source": []
  }
 ],
 "metadata": {
  "kernelspec": {
   "display_name": ".venv",
   "language": "python",
   "name": "python3"
  },
  "language_info": {
   "codemirror_mode": {
    "name": "ipython",
    "version": 3
   },
   "file_extension": ".py",
   "mimetype": "text/x-python",
   "name": "python",
   "nbconvert_exporter": "python",
   "pygments_lexer": "ipython3",
   "version": "3.12.4"
  }
 },
 "nbformat": 4,
 "nbformat_minor": 2
}
