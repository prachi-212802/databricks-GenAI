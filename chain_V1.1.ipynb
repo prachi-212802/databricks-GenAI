{
 "cells": [
  {
   "cell_type": "code",
   "execution_count": 3,
   "metadata": {},
   "outputs": [
    {
     "name": "stderr",
     "output_type": "stream",
     "text": [
      "/var/folders/9v/v1zh3zqj7zj2m4408rms2w4r0000gp/T/ipykernel_11588/891764678.py:3: LangChainDeprecationWarning: The class `Ollama` was deprecated in LangChain 0.3.1 and will be removed in 1.0.0. An updated version of the class exists in the :class:`~langchain-ollama package and should be used instead. To use it run `pip install -U :class:`~langchain-ollama` and import as `from :class:`~langchain_ollama import OllamaLLM``.\n",
      "  llm__ollama = Ollama(\n"
     ]
    },
    {
     "data": {
      "text/plain": [
       "\"Here is an example of SQL queries that can be used to count the total number of rows in a table:\\n\\n**Method 1: Using COUNT() function**\\n\\n```sql\\nSELECT COUNT(*) AS total_rows FROM table_name;\\n```\\n\\nIn this method, `COUNT(*)` returns the total number of rows in the specified table. The `AS` keyword is used to give an alias to the column.\\n\\n**Method 2: Using GROUP BY clause**\\n\\n```sql\\nSELECT COUNT(*) AS total_rows FROM table_name GROUP BY null;\\n```\\n\\nThis method uses the `GROUP BY` clause with a grouping column that doesn't affect the count, i.e., `null`. This is a common technique when you don't want to specify any conditions.\\n\\n**Method 3: Using LIMIT**\\n\\n```sql\\nSELECT COUNT(*) AS total_rows FROM table_name LIMIT 0;\\n```\\n\\nIn this method, we use `LIMIT 0` to retrieve no rows from the table. The `COUNT(*)` function still returns the total number of rows.\\n\\nNote that these methods assume you are using a SQL dialect that supports these features.\""
      ]
     },
     "execution_count": 3,
     "metadata": {},
     "output_type": "execute_result"
    }
   ],
   "source": [
    "from langchain_community.llms import Ollama\n",
    "\n",
    "llm__ollama = Ollama(\n",
    "    model=\"llama3.2\"\n",
    ")  # assuming you have Ollama installed and have llama3 model pulled with `ollama pull llama3 `\n",
    "\n",
    "llm__ollama.invoke(\"generate a sql query which can count the total rows\") "
   ]
  },
  {
   "cell_type": "code",
   "execution_count": 4,
   "metadata": {},
   "outputs": [],
   "source": [
    "from langchain_community.utilities import SQLDatabase\n",
    "import urllib.parse\n",
    "# from sqlalchemy import create_engine\n",
    "quoted_password = urllib.parse.quote(\"Prachi@28\")\n",
    "\n",
    "snowflake_db = SQLDatabase.from_uri('snowflake://{user}:{password}@{account_identifier}/SNOWFLAKE_SAMPLE_DATA/TPCDS_SF100TCL'.format(\n",
    "        user='PRACHIBH',\n",
    "        password=quoted_password,\n",
    "        account_identifier='dmhwtcd-nt69450',\n",
    "    ))\n",
    "\n",
    "# print(db.dialect)\n",
    "# print(db.get_usable_table_names())\n",
    "# db.run(\"SELECT * FROM Artist LIMIT 10;\")\n",
    "\n",
    "# construct sqlalchemy engine from uri \n",
    "# error : full path need to be mentioned => so, full path as in till the db with .db included ?  "
   ]
  },
  {
   "cell_type": "code",
   "execution_count": 5,
   "metadata": {},
   "outputs": [],
   "source": [
    "from langchain_core.output_parsers.list import CommaSeparatedListOutputParser\n",
    "from langchain_core.prompts.prompt import PromptTemplate\n",
    "from langchain_core.language_models import BaseLanguageModel\n",
    "from langchain_core.output_parsers import StrOutputParser\n",
    "from langchain_core.prompts import BasePromptTemplate\n",
    "from langchain_core.runnables import Runnable, RunnablePassthrough\n",
    "from langchain.chains.sql_database.prompt import PROMPT, SQL_PROMPTS\n",
    "\n",
    "from typing import Any, Dict, List, Optional, Union, TypedDict, TYPE_CHECKING\n",
    "\n",
    "if TYPE_CHECKING:\n",
    "    from langchain_community.utilities.sql_database import SQLDatabase\n",
    "\n",
    "def _strip(text: str) -> str:\n",
    "    print(\"insisde _strip\")\n",
    "    return text.strip()\n",
    "\n",
    "class SQLInput(TypedDict):\n",
    "    \"\"\"Input for a SQL Chain.\"\"\"\n",
    "    question: str\n",
    "\n",
    "class SQLInputWithTables(TypedDict):\n",
    "    \"\"\"Input for a SQL Chain.\"\"\"\n",
    "    question: str\n",
    "    table_names_to_use: List[str]\n",
    "\n",
    "def create_sql_query_chain(\n",
    "    llm: BaseLanguageModel,\n",
    "    db: SQLDatabase,\n",
    "    prompt: Optional[BasePromptTemplate] = None,\n",
    "    k: int = 1,\n",
    ") -> Runnable[Union[SQLInput, SQLInputWithTables, Dict[str, Any]], str]:\n",
    "\n",
    "    if prompt is not None:\n",
    "        prompt_to_use = prompt\n",
    "    elif db.dialect in SQL_PROMPTS:\n",
    "        prompt_to_use = SQL_PROMPTS[db.dialect]\n",
    "    else:\n",
    "        prompt_to_use = PROMPT\n",
    "\n",
    "    if {\"input\", \"top_k\", \"table_info\"}.difference(\n",
    "        prompt_to_use.input_variables + list(prompt_to_use.partial_variables)\n",
    "    ):\n",
    "        raise ValueError(\n",
    "            f\"Prompt must have input variables: 'input', 'top_k', \"\n",
    "            f\"'table_info'. Received prompt with input variables: \"\n",
    "            f\"{prompt_to_use.input_variables}. Full prompt:\\n\\n{prompt_to_use}\"\n",
    "        )\n",
    "    if \"dialect\" in prompt_to_use.input_variables:\n",
    "        prompt_to_use = prompt_to_use.partial(dialect=db.dialect)\n",
    "\n",
    "    inputs = {\n",
    "        \"input\": lambda x: x[\"question\"] + \"\\nSQLQuery: \",\n",
    "        \"table_info\": lambda x: db.get_table_info(\n",
    "            table_names=x.get(\"table_names_to_use\")\n",
    "        ),\n",
    "    }\n",
    "\n",
    "    return (\n",
    "        RunnablePassthrough.assign(**inputs)  # type: ignore\n",
    "        | prompt_to_use.partial(top_k=str(k))\n",
    "        | llm.bind(stop=[\"\\nSQLResult:\"])\n",
    "        | StrOutputParser()\n",
    "        | _strip\n",
    "    )\n",
    "\n",
    "# Example usage:\n",
    "# Make sure to replace `llm__ollama` and `db` with your actual language model and database objects.\n",
    "\n"
   ]
  },
  {
   "cell_type": "code",
   "execution_count": 6,
   "metadata": {},
   "outputs": [
    {
     "name": "stdout",
     "output_type": "stream",
     "text": [
      "insisde _strip\n",
      "Question: extract male count from CUSTOMER_DEMOGRAPHICS where CD_CREDIT_RATING are good\n",
      "SQLQuery: \n",
      "SELECT cd_dep_employed_count \n",
      "FROM customer_demographics \n",
      "WHERE cd_gender = 'M' AND cd_credit_rating IN ('Good', 'Excellent')\n",
      "LIMIT 1;\n"
     ]
    }
   ],
   "source": [
    "chain = create_sql_query_chain(llm__ollama,snowflake_db)\n",
    "response = chain.invoke({\n",
    "    \"question\" : \"extract male count from CUSTOMER_DEMOGRAPHICS where CD_CREDIT_RATING are good\",\n",
    "    \"table_names_to_use\": ['customer_demographics']\n",
    "})\n",
    "print(response)"
   ]
  },
  {
   "cell_type": "code",
   "execution_count": 27,
   "metadata": {},
   "outputs": [
    {
     "name": "stdout",
     "output_type": "stream",
     "text": [
      "sql_query : SELECT cd_dep_employed_count \n",
      "FROM customer_demographics \n",
      "WHERE cd_gender = 'M' AND cd_credit_rating IN ('Good', 'Excellent')\n",
      "LIMIT 1;\n"
     ]
    }
   ],
   "source": [
    "import re\n",
    "\n",
    "# Define the regex pattern\n",
    "pattern = r\"SQLQuery:\\s*((?:.|\\n)*?)(;|$)\"\n",
    "\n",
    "# Search for the pattern in the text\n",
    "match = re.search(pattern, response)\n",
    "\n",
    "# Extract the SQL query if the pattern is found\n",
    "if match:\n",
    "    sql_query = match.group(1)\n",
    "else:\n",
    "    print(\"SQLQuery not found\") \n",
    "\n",
    "sql_query = sql_query + ';' \n",
    "print(f'sql_query : {sql_query}')"
   ]
  },
  {
   "cell_type": "code",
   "execution_count": 28,
   "metadata": {},
   "outputs": [
    {
     "name": "stdout",
     "output_type": "stream",
     "text": [
      "insisde _strip\n"
     ]
    },
    {
     "ename": "TypeError",
     "evalue": "ExecuteDB.invoke() takes 1 positional argument but 3 were given",
     "output_type": "error",
     "traceback": [
      "\u001b[0;31m---------------------------------------------------------------------------\u001b[0m",
      "\u001b[0;31mTypeError\u001b[0m                                 Traceback (most recent call last)",
      "Cell \u001b[0;32mIn[28], line 26\u001b[0m\n\u001b[1;32m     24\u001b[0m execute_query \u001b[38;5;241m=\u001b[39m execurteDB(snowflake_db, response)\n\u001b[1;32m     25\u001b[0m chain_2 \u001b[38;5;241m=\u001b[39m write_query \u001b[38;5;241m|\u001b[39m execute_query  \n\u001b[0;32m---> 26\u001b[0m response \u001b[38;5;241m=\u001b[39m \u001b[43mchain_2\u001b[49m\u001b[38;5;241;43m.\u001b[39;49m\u001b[43minvoke\u001b[49m\u001b[43m(\u001b[49m\u001b[43m{\u001b[49m\n\u001b[1;32m     27\u001b[0m \u001b[43m    \u001b[49m\u001b[38;5;124;43m\"\u001b[39;49m\u001b[38;5;124;43mquestion\u001b[39;49m\u001b[38;5;124;43m\"\u001b[39;49m\u001b[43m \u001b[49m\u001b[43m:\u001b[49m\u001b[43m \u001b[49m\u001b[38;5;124;43m\"\u001b[39;49m\u001b[38;5;124;43mextract male count from CUSTOMER_DEMOGRAPHICS where CD_CREDIT_RATING are good\u001b[39;49m\u001b[38;5;124;43m\"\u001b[39;49m\u001b[43m,\u001b[49m\n\u001b[1;32m     28\u001b[0m \u001b[43m    \u001b[49m\u001b[38;5;124;43m\"\u001b[39;49m\u001b[38;5;124;43mtable_names_to_use\u001b[39;49m\u001b[38;5;124;43m\"\u001b[39;49m\u001b[43m:\u001b[49m\u001b[43m \u001b[49m\u001b[43m[\u001b[49m\u001b[38;5;124;43m'\u001b[39;49m\u001b[38;5;124;43mcustomer_demographics\u001b[39;49m\u001b[38;5;124;43m'\u001b[39;49m\u001b[43m]\u001b[49m\n\u001b[1;32m     29\u001b[0m \u001b[43m}\u001b[49m\u001b[43m)\u001b[49m\n",
      "File \u001b[0;32m~/Downloads/llm/.venv/lib/python3.12/site-packages/langchain_core/runnables/base.py:3024\u001b[0m, in \u001b[0;36mRunnableSequence.invoke\u001b[0;34m(self, input, config, **kwargs)\u001b[0m\n\u001b[1;32m   3022\u001b[0m             \u001b[38;5;28minput\u001b[39m \u001b[38;5;241m=\u001b[39m context\u001b[38;5;241m.\u001b[39mrun(step\u001b[38;5;241m.\u001b[39minvoke, \u001b[38;5;28minput\u001b[39m, config, \u001b[38;5;241m*\u001b[39m\u001b[38;5;241m*\u001b[39mkwargs)\n\u001b[1;32m   3023\u001b[0m         \u001b[38;5;28;01melse\u001b[39;00m:\n\u001b[0;32m-> 3024\u001b[0m             \u001b[38;5;28minput\u001b[39m \u001b[38;5;241m=\u001b[39m \u001b[43mcontext\u001b[49m\u001b[38;5;241;43m.\u001b[39;49m\u001b[43mrun\u001b[49m\u001b[43m(\u001b[49m\u001b[43mstep\u001b[49m\u001b[38;5;241;43m.\u001b[39;49m\u001b[43minvoke\u001b[49m\u001b[43m,\u001b[49m\u001b[43m \u001b[49m\u001b[38;5;28;43minput\u001b[39;49m\u001b[43m,\u001b[49m\u001b[43m \u001b[49m\u001b[43mconfig\u001b[49m\u001b[43m)\u001b[49m\n\u001b[1;32m   3025\u001b[0m \u001b[38;5;66;03m# finish the root run\u001b[39;00m\n\u001b[1;32m   3026\u001b[0m \u001b[38;5;28;01mexcept\u001b[39;00m \u001b[38;5;167;01mBaseException\u001b[39;00m \u001b[38;5;28;01mas\u001b[39;00m e:\n",
      "\u001b[0;31mTypeError\u001b[0m: ExecuteDB.invoke() takes 1 positional argument but 3 were given"
     ]
    }
   ],
   "source": [
    "import re\n",
    "from typing import Optional\n",
    "from langchain_core.runnables import Runnable\n",
    "\n",
    "class ExecuteDB(Runnable):\n",
    "    def __init__(self, db: SQLDatabase, response : str):\n",
    "        self.db = db\n",
    "        self.response = response\n",
    "\n",
    "    def invoke(self) -> Optional[str]:\n",
    "        pattern = r\"SQLQuery:\\s*(.*)\"\n",
    "        match = re.search(pattern, self.response)\n",
    "        if match:\n",
    "            sql_query = match.group(1)\n",
    "            return self.db.run(\"SELECT cd_dep_employed_count FROM customer_demographics WHERE cd_gender = 'M' AND cd_credit_rating = 'Good' ;\")\n",
    "        else:\n",
    "            print(\"SQL not found\")\n",
    "            return None\n",
    "\n",
    "def execurteDB(db: SQLDatabase, response: str) -> Runnable:\n",
    "    return ExecuteDB(db, response)\n",
    "\n",
    "write_query = create_sql_query_chain(llm__ollama,snowflake_db)\n",
    "execute_query = execurteDB(snowflake_db, response)\n",
    "chain_2 = write_query | execute_query  \n",
    "response = chain_2.invoke({\n",
    "    \"question\" : \"extract male count from CUSTOMER_DEMOGRAPHICS where CD_CREDIT_RATING are good\",\n",
    "    \"table_names_to_use\": ['customer_demographics']\n",
    "})\n"
   ]
  },
  {
   "cell_type": "code",
   "execution_count": null,
   "metadata": {},
   "outputs": [],
   "source": []
  }
 ],
 "metadata": {
  "kernelspec": {
   "display_name": ".venv",
   "language": "python",
   "name": "python3"
  },
  "language_info": {
   "codemirror_mode": {
    "name": "ipython",
    "version": 3
   },
   "file_extension": ".py",
   "mimetype": "text/x-python",
   "name": "python",
   "nbconvert_exporter": "python",
   "pygments_lexer": "ipython3",
   "version": "3.12.4"
  }
 },
 "nbformat": 4,
 "nbformat_minor": 2
}
